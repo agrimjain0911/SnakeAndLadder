{
 "cells": [
  {
   "cell_type": "code",
   "execution_count": 2,
   "metadata": {},
   "outputs": [
    {
     "name": "stdout",
     "output_type": "stream",
     "text": [
      "Enter the binary number: 11\n",
      "The decimal number for 3\n"
     ]
    }
   ],
   "source": [
    "def binaryToDecimal(n): \n",
    "    return int(n,2)\n",
    "num=input(\"Enter the binary number: \")\n",
    "val1 = binaryToDecimal(num)\n",
    "print(\"The decimal number for \"+ str(binaryToDecimal(num)))"
   ]
  },
  {
   "cell_type": "code",
   "execution_count": 5,
   "metadata": {},
   "outputs": [
    {
     "name": "stdout",
     "output_type": "stream",
     "text": [
      "Enter the octal number: 11\n",
      "The decimal number for 9\n"
     ]
    }
   ],
   "source": [
    "def binaryToDecimal(n): \n",
    "    return int(n,8)\n",
    "num=input(\"Enter the octal number: \")\n",
    "val1 = binaryToDecimal(num)\n",
    "print(\"The decimal number for \"+ str(binaryToDecimal(num)))"
   ]
  },
  {
   "cell_type": "code",
   "execution_count": 7,
   "metadata": {},
   "outputs": [
    {
     "name": "stdout",
     "output_type": "stream",
     "text": [
      "Enter the hexadecimal number: ad24\n",
      "The decimal number of hexadecimal string : 44324\n"
     ]
    }
   ],
   "source": [
    "test_string = input(\"Enter the hexadecimal number: \")\n",
    "res = int(test_string, 16) \n",
    "print(\"The decimal number of hexadecimal string : \" + str(res)) "
   ]
  }
 ],
 "metadata": {
  "kernelspec": {
   "display_name": "Python 3",
   "language": "python",
   "name": "python3"
  },
  "language_info": {
   "codemirror_mode": {
    "name": "ipython",
    "version": 3
   },
   "file_extension": ".py",
   "mimetype": "text/x-python",
   "name": "python",
   "nbconvert_exporter": "python",
   "pygments_lexer": "ipython3",
   "version": "3.6.4"
  }
 },
 "nbformat": 4,
 "nbformat_minor": 2
}
