{
 "cells": [
  {
   "cell_type": "code",
   "execution_count": 3,
   "metadata": {},
   "outputs": [],
   "source": [
    "import math\n",
    "try:\n",
    "\n",
    "    if Operation == '+':\n",
    "        print(\"The sum is \" + str(a+b))\n",
    "    elif Operation == '-':\n",
    "        print(\"The difference is \" + str(a-b))\n",
    "    elif Operation == '*':\n",
    "        print (\"The product is \"+ str(a*b))\n",
    "    elif Operation == '/':\n",
    "        print(\"The quotient is \" + str(a/b))\n",
    "    elif Operation == '^':\n",
    "        print(\"The result is \" + str(pow(a, b)))\n",
    "    else:\n",
    "        print(\"This is not possible\")\n",
    "except:\n",
    "    print(\"An error occured during the process\")"
   ]
  },
  {
   "cell_type": "code",
   "execution_count": 9,
   "metadata": {},
   "outputs": [
    {
     "name": "stdout",
     "output_type": "stream",
     "text": [
      "Enter first number: 11\n",
      "Enter operation/\n",
      "Enter second number: 11\n",
      "The quotient is 1.0\n"
     ]
    }
   ],
   "source": [
    "try:\n",
    "    a= int(input(\"Enter first number: \"))\n",
    "    Operation=(input(\"Enter operation\"))\n",
    "    b=int(input(\"Enter second number: \"))\n",
    "    if Operation == '+':\n",
    "        print(\"The sum is \" + str(a+b))\n",
    "    elif Operation == '-':\n",
    "        print(\"The difference is \" + str(a-b))\n",
    "    elif Operation == '*':\n",
    "        print (\"The product is \"+ str(a*b))\n",
    "    elif Operation == '/':\n",
    "        print(\"The quotient is \" + str(a/b))\n",
    "    elif Operation == '^':\n",
    "        print(\"The result is \" + str(pow(a, b)))\n",
    "    else:\n",
    "        print(\"This is not possible\")\n",
    "except:\n",
    "    print(\"An error has occured\")\n"
   ]
  },
  {
   "cell_type": "code",
   "execution_count": 1,
   "metadata": {},
   "outputs": [
    {
     "name": "stdout",
     "output_type": "stream",
     "text": [
      "Enter the number: 45\n",
      "45 is not a prime number\n",
      "3 times 15 is 45\n"
     ]
    }
   ],
   "source": []
  },
  {
   "cell_type": "code",
   "execution_count": null,
   "metadata": {},
   "outputs": [],
   "source": []
  },
  {
   "cell_type": "code",
   "execution_count": null,
   "metadata": {},
   "outputs": [],
   "source": []
  }
 ],
 "metadata": {
  "kernelspec": {
   "display_name": "Python 3",
   "language": "python",
   "name": "python3"
  },
  "language_info": {
   "codemirror_mode": {
    "name": "ipython",
    "version": 3
   },
   "file_extension": ".py",
   "mimetype": "text/x-python",
   "name": "python",
   "nbconvert_exporter": "python",
   "pygments_lexer": "ipython3",
   "version": "3.6.4"
  }
 },
 "nbformat": 4,
 "nbformat_minor": 2
}
