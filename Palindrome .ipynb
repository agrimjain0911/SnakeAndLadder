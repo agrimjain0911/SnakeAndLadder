{
 "cells": [
  {
   "cell_type": "code",
   "execution_count": 6,
   "metadata": {},
   "outputs": [
    {
     "name": "stdout",
     "output_type": "stream",
     "text": [
      "Enter the value: 910019\n",
      "True\n"
     ]
    }
   ],
   "source": [
    "try:\n",
    "    #num = int(input(\"Enter the value: \"))\n",
    "    num = (input(\"Enter the value: \"))\n",
    "\n",
    "    result = IsPalindrome(num)\n",
    "    print(result)\n",
    "\n",
    "except:\n",
    "    print(\"An error has occured\")\n",
    "        "
   ]
  },
  {
   "cell_type": "markdown",
   "metadata": {},
   "source": [
    "\n",
    "\n"
   ]
  },
  {
   "cell_type": "code",
   "execution_count": 1,
   "metadata": {},
   "outputs": [],
   "source": [
    "def comparevalues(res,element):\n",
    "    if(res[element] == res[-(element+1)]):\n",
    "        return True\n",
    "    else:\n",
    "        return False\n",
    "        \n"
   ]
  },
  {
   "cell_type": "code",
   "execution_count": 2,
   "metadata": {},
   "outputs": [],
   "source": [
    "def IsPalindrome(num):\n",
    "        # res = [int(x) for x in str(num)] \n",
    "    res = [(x) for x in str(num)] \n",
    "    inputlen = len(res)\n",
    "    if inputlen % 2 == 0:\n",
    "        looplen = inputlen/2\n",
    "    else:\n",
    "        looplen = (inputlen-1)/2\n",
    "    \n",
    "    i=0\n",
    "    while i <= looplen-1:\n",
    "        if(comparevalues(res,i)==False):\n",
    "            return False\n",
    "        i=i+1\n",
    "    return True"
   ]
  },
  {
   "cell_type": "code",
   "execution_count": null,
   "metadata": {},
   "outputs": [],
   "source": []
  }
 ],
 "metadata": {
  "kernelspec": {
   "display_name": "Python 3",
   "language": "python",
   "name": "python3"
  },
  "language_info": {
   "codemirror_mode": {
    "name": "ipython",
    "version": 3
   },
   "file_extension": ".py",
   "mimetype": "text/x-python",
   "name": "python",
   "nbconvert_exporter": "python",
   "pygments_lexer": "ipython3",
   "version": "3.6.4"
  }
 },
 "nbformat": 4,
 "nbformat_minor": 2
}
